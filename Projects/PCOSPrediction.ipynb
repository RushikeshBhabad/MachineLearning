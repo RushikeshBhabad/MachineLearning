{
 "cells": [
  {
   "cell_type": "code",
   "execution_count": 5,
   "id": "1ac0cc7c-fa90-49bc-91f9-51b7de1ac4a4",
   "metadata": {},
   "outputs": [],
   "source": [
    "# Data Handling , Analysis & visualization\n",
    "import pandas as pd\n",
    "import numpy as np\n",
    "import matplotlib.pyplot as plt\n",
    "import seaborn as sns"
   ]
  },
  {
   "cell_type": "code",
   "execution_count": 6,
   "id": "ba273ccc-8d5c-4f29-9bd5-ce349d6b3dfb",
   "metadata": {},
   "outputs": [],
   "source": [
    "# Preprocessing\n",
    "from sklearn.model_selection import train_test_split\n",
    "from sklearn.preprocessing import StandardScaler, LabelEncoder"
   ]
  },
  {
   "cell_type": "code",
   "execution_count": 7,
   "id": "4488ee5b-81a8-48d7-940c-21a3b5f0ae27",
   "metadata": {},
   "outputs": [],
   "source": [
    "# Machine Learning Models\n",
    "from sklearn.linear_model import LogisticRegression  # Logistic Regression\n",
    "from sklearn.svm import SVC                          # Support Vector Machine (SVM)\n",
    "from sklearn.tree import DecisionTreeClassifier      # Decision Tree\n",
    "from sklearn.ensemble import RandomForestClassifier  # Random Forest"
   ]
  },
  {
   "cell_type": "code",
   "execution_count": 8,
   "id": "9ac8d630-fca9-4c02-ae85-6a6429311f3f",
   "metadata": {},
   "outputs": [],
   "source": [
    "# Model Evaluation\n",
    "from sklearn.metrics import accuracy_score, classification_report, confusion_matrix"
   ]
  },
  {
   "cell_type": "code",
   "execution_count": 9,
   "id": "1fb104e0-f642-45f6-8ac5-d389e249e88d",
   "metadata": {},
   "outputs": [],
   "source": [
    "dataset = pd.read_csv('pcos_dataset.csv')"
   ]
  },
  {
   "cell_type": "code",
   "execution_count": 10,
   "id": "1b19b60a-3a51-4124-aeaa-ec34b659a11f",
   "metadata": {},
   "outputs": [
    {
     "data": {
      "text/html": [
       "<div>\n",
       "<style scoped>\n",
       "    .dataframe tbody tr th:only-of-type {\n",
       "        vertical-align: middle;\n",
       "    }\n",
       "\n",
       "    .dataframe tbody tr th {\n",
       "        vertical-align: top;\n",
       "    }\n",
       "\n",
       "    .dataframe thead th {\n",
       "        text-align: right;\n",
       "    }\n",
       "</style>\n",
       "<table border=\"1\" class=\"dataframe\">\n",
       "  <thead>\n",
       "    <tr style=\"text-align: right;\">\n",
       "      <th></th>\n",
       "      <th>Age</th>\n",
       "      <th>BMI</th>\n",
       "      <th>Menstrual_Irregularity</th>\n",
       "      <th>Testosterone_Level(ng/dL)</th>\n",
       "      <th>Antral_Follicle_Count</th>\n",
       "      <th>PCOS_Diagnosis</th>\n",
       "    </tr>\n",
       "  </thead>\n",
       "  <tbody>\n",
       "    <tr>\n",
       "      <th>0</th>\n",
       "      <td>24</td>\n",
       "      <td>34.7</td>\n",
       "      <td>1</td>\n",
       "      <td>25.2</td>\n",
       "      <td>20</td>\n",
       "      <td>0</td>\n",
       "    </tr>\n",
       "    <tr>\n",
       "      <th>1</th>\n",
       "      <td>37</td>\n",
       "      <td>26.4</td>\n",
       "      <td>0</td>\n",
       "      <td>57.1</td>\n",
       "      <td>25</td>\n",
       "      <td>0</td>\n",
       "    </tr>\n",
       "    <tr>\n",
       "      <th>2</th>\n",
       "      <td>32</td>\n",
       "      <td>23.6</td>\n",
       "      <td>0</td>\n",
       "      <td>92.7</td>\n",
       "      <td>28</td>\n",
       "      <td>0</td>\n",
       "    </tr>\n",
       "    <tr>\n",
       "      <th>3</th>\n",
       "      <td>28</td>\n",
       "      <td>28.8</td>\n",
       "      <td>0</td>\n",
       "      <td>63.1</td>\n",
       "      <td>26</td>\n",
       "      <td>0</td>\n",
       "    </tr>\n",
       "    <tr>\n",
       "      <th>4</th>\n",
       "      <td>25</td>\n",
       "      <td>22.1</td>\n",
       "      <td>1</td>\n",
       "      <td>59.8</td>\n",
       "      <td>8</td>\n",
       "      <td>0</td>\n",
       "    </tr>\n",
       "  </tbody>\n",
       "</table>\n",
       "</div>"
      ],
      "text/plain": [
       "   Age   BMI  Menstrual_Irregularity  Testosterone_Level(ng/dL)  \\\n",
       "0   24  34.7                       1                       25.2   \n",
       "1   37  26.4                       0                       57.1   \n",
       "2   32  23.6                       0                       92.7   \n",
       "3   28  28.8                       0                       63.1   \n",
       "4   25  22.1                       1                       59.8   \n",
       "\n",
       "   Antral_Follicle_Count  PCOS_Diagnosis  \n",
       "0                     20               0  \n",
       "1                     25               0  \n",
       "2                     28               0  \n",
       "3                     26               0  \n",
       "4                      8               0  "
      ]
     },
     "execution_count": 10,
     "metadata": {},
     "output_type": "execute_result"
    }
   ],
   "source": [
    "dataset.head()"
   ]
  },
  {
   "cell_type": "code",
   "execution_count": 11,
   "id": "bc1a828a-07c7-4845-8c58-6fb5fc733279",
   "metadata": {},
   "outputs": [
    {
     "data": {
      "text/plain": [
       "(1000, 6)"
      ]
     },
     "execution_count": 11,
     "metadata": {},
     "output_type": "execute_result"
    }
   ],
   "source": [
    "dataset.shape"
   ]
  },
  {
   "cell_type": "code",
   "execution_count": 12,
   "id": "50c4b606-b555-44d3-a096-de58e56033d5",
   "metadata": {},
   "outputs": [
    {
     "data": {
      "text/html": [
       "<div>\n",
       "<style scoped>\n",
       "    .dataframe tbody tr th:only-of-type {\n",
       "        vertical-align: middle;\n",
       "    }\n",
       "\n",
       "    .dataframe tbody tr th {\n",
       "        vertical-align: top;\n",
       "    }\n",
       "\n",
       "    .dataframe thead th {\n",
       "        text-align: right;\n",
       "    }\n",
       "</style>\n",
       "<table border=\"1\" class=\"dataframe\">\n",
       "  <thead>\n",
       "    <tr style=\"text-align: right;\">\n",
       "      <th></th>\n",
       "      <th>Age</th>\n",
       "      <th>BMI</th>\n",
       "      <th>Menstrual_Irregularity</th>\n",
       "      <th>Testosterone_Level(ng/dL)</th>\n",
       "      <th>Antral_Follicle_Count</th>\n",
       "      <th>PCOS_Diagnosis</th>\n",
       "    </tr>\n",
       "  </thead>\n",
       "  <tbody>\n",
       "    <tr>\n",
       "      <th>count</th>\n",
       "      <td>1000.000000</td>\n",
       "      <td>1000.00000</td>\n",
       "      <td>1000.000000</td>\n",
       "      <td>1000.000000</td>\n",
       "      <td>1000.000000</td>\n",
       "      <td>1000.000000</td>\n",
       "    </tr>\n",
       "    <tr>\n",
       "      <th>mean</th>\n",
       "      <td>31.771000</td>\n",
       "      <td>26.38700</td>\n",
       "      <td>0.530000</td>\n",
       "      <td>60.159500</td>\n",
       "      <td>17.469000</td>\n",
       "      <td>0.199000</td>\n",
       "    </tr>\n",
       "    <tr>\n",
       "      <th>std</th>\n",
       "      <td>8.463462</td>\n",
       "      <td>4.93554</td>\n",
       "      <td>0.499349</td>\n",
       "      <td>23.160204</td>\n",
       "      <td>7.069301</td>\n",
       "      <td>0.399448</td>\n",
       "    </tr>\n",
       "    <tr>\n",
       "      <th>min</th>\n",
       "      <td>18.000000</td>\n",
       "      <td>18.10000</td>\n",
       "      <td>0.000000</td>\n",
       "      <td>20.000000</td>\n",
       "      <td>5.000000</td>\n",
       "      <td>0.000000</td>\n",
       "    </tr>\n",
       "    <tr>\n",
       "      <th>25%</th>\n",
       "      <td>24.000000</td>\n",
       "      <td>21.90000</td>\n",
       "      <td>0.000000</td>\n",
       "      <td>41.700000</td>\n",
       "      <td>12.000000</td>\n",
       "      <td>0.000000</td>\n",
       "    </tr>\n",
       "    <tr>\n",
       "      <th>50%</th>\n",
       "      <td>32.000000</td>\n",
       "      <td>26.40000</td>\n",
       "      <td>1.000000</td>\n",
       "      <td>60.000000</td>\n",
       "      <td>18.000000</td>\n",
       "      <td>0.000000</td>\n",
       "    </tr>\n",
       "    <tr>\n",
       "      <th>75%</th>\n",
       "      <td>39.000000</td>\n",
       "      <td>30.50000</td>\n",
       "      <td>1.000000</td>\n",
       "      <td>80.300000</td>\n",
       "      <td>23.250000</td>\n",
       "      <td>0.000000</td>\n",
       "    </tr>\n",
       "    <tr>\n",
       "      <th>max</th>\n",
       "      <td>45.000000</td>\n",
       "      <td>35.00000</td>\n",
       "      <td>1.000000</td>\n",
       "      <td>99.800000</td>\n",
       "      <td>29.000000</td>\n",
       "      <td>1.000000</td>\n",
       "    </tr>\n",
       "  </tbody>\n",
       "</table>\n",
       "</div>"
      ],
      "text/plain": [
       "               Age         BMI  Menstrual_Irregularity  \\\n",
       "count  1000.000000  1000.00000             1000.000000   \n",
       "mean     31.771000    26.38700                0.530000   \n",
       "std       8.463462     4.93554                0.499349   \n",
       "min      18.000000    18.10000                0.000000   \n",
       "25%      24.000000    21.90000                0.000000   \n",
       "50%      32.000000    26.40000                1.000000   \n",
       "75%      39.000000    30.50000                1.000000   \n",
       "max      45.000000    35.00000                1.000000   \n",
       "\n",
       "       Testosterone_Level(ng/dL)  Antral_Follicle_Count  PCOS_Diagnosis  \n",
       "count                1000.000000            1000.000000     1000.000000  \n",
       "mean                   60.159500              17.469000        0.199000  \n",
       "std                    23.160204               7.069301        0.399448  \n",
       "min                    20.000000               5.000000        0.000000  \n",
       "25%                    41.700000              12.000000        0.000000  \n",
       "50%                    60.000000              18.000000        0.000000  \n",
       "75%                    80.300000              23.250000        0.000000  \n",
       "max                    99.800000              29.000000        1.000000  "
      ]
     },
     "execution_count": 12,
     "metadata": {},
     "output_type": "execute_result"
    }
   ],
   "source": [
    "dataset.describe()"
   ]
  },
  {
   "cell_type": "code",
   "execution_count": 13,
   "id": "485f6020-42ca-47f7-bf9d-d16f50518fe8",
   "metadata": {},
   "outputs": [
    {
     "name": "stdout",
     "output_type": "stream",
     "text": [
      "<class 'pandas.core.frame.DataFrame'>\n",
      "RangeIndex: 1000 entries, 0 to 999\n",
      "Data columns (total 6 columns):\n",
      " #   Column                     Non-Null Count  Dtype  \n",
      "---  ------                     --------------  -----  \n",
      " 0   Age                        1000 non-null   int64  \n",
      " 1   BMI                        1000 non-null   float64\n",
      " 2   Menstrual_Irregularity     1000 non-null   int64  \n",
      " 3   Testosterone_Level(ng/dL)  1000 non-null   float64\n",
      " 4   Antral_Follicle_Count      1000 non-null   int64  \n",
      " 5   PCOS_Diagnosis             1000 non-null   int64  \n",
      "dtypes: float64(2), int64(4)\n",
      "memory usage: 47.0 KB\n"
     ]
    }
   ],
   "source": [
    "dataset.info()"
   ]
  },
  {
   "cell_type": "code",
   "execution_count": 14,
   "id": "9c83874d-2303-46ea-880c-a6b5b8a21118",
   "metadata": {},
   "outputs": [
    {
     "data": {
      "text/plain": [
       "PCOS_Diagnosis\n",
       "0    801\n",
       "1    199\n",
       "Name: count, dtype: int64"
      ]
     },
     "execution_count": 14,
     "metadata": {},
     "output_type": "execute_result"
    }
   ],
   "source": [
    "dataset['PCOS_Diagnosis'].value_counts()"
   ]
  },
  {
   "cell_type": "code",
   "execution_count": 15,
   "id": "efbba17c-7817-4228-8fce-644a383de167",
   "metadata": {},
   "outputs": [
    {
     "data": {
      "text/plain": [
       "Age                          0\n",
       "BMI                          0\n",
       "Menstrual_Irregularity       0\n",
       "Testosterone_Level(ng/dL)    0\n",
       "Antral_Follicle_Count        0\n",
       "PCOS_Diagnosis               0\n",
       "dtype: int64"
      ]
     },
     "execution_count": 15,
     "metadata": {},
     "output_type": "execute_result"
    }
   ],
   "source": [
    "dataset.isnull().sum()"
   ]
  },
  {
   "cell_type": "code",
   "execution_count": 16,
   "id": "14dc7c1a-5664-4748-9976-e440555fa7ae",
   "metadata": {},
   "outputs": [],
   "source": [
    "X = dataset[['Age', 'BMI', 'Menstrual_Irregularity', 'Testosterone_Level(ng/dL)', 'Antral_Follicle_Count']]\n",
    "y = dataset['PCOS_Diagnosis']"
   ]
  },
  {
   "cell_type": "code",
   "execution_count": 17,
   "id": "42af7ec1-3c1d-4e35-a458-942e873a5cae",
   "metadata": {},
   "outputs": [],
   "source": [
    "scaler = StandardScaler()\n",
    "X_Standardized = scaler.fit_transform(X)"
   ]
  },
  {
   "cell_type": "code",
   "execution_count": 18,
   "id": "a45bac3e-3314-455a-9f21-2d5798fecce8",
   "metadata": {},
   "outputs": [
    {
     "name": "stdout",
     "output_type": "stream",
     "text": [
      "[[-0.91864162  1.68515712  0.94169658 -1.51021956  0.35820607]\n",
      " [ 0.61814142  0.00263528 -1.06191317 -0.1321677   1.0658435 ]\n",
      " [ 0.02707102 -0.56496246 -1.06191317  1.40572089  1.49042596]\n",
      " ...\n",
      " [ 0.61814142  0.38779088 -1.06191317 -1.19918591  1.49042596]\n",
      " [ 1.09099774  0.1850774  -1.06191317  1.53099833 -1.19859628]\n",
      " [-1.15506978 -0.90957537  0.94169658  0.80957307 -1.48165126]]\n"
     ]
    }
   ],
   "source": [
    "print(X_Standardized)"
   ]
  },
  {
   "cell_type": "code",
   "execution_count": 19,
   "id": "ab957a5a-1f0f-4fbd-83fb-dd54b785b54d",
   "metadata": {},
   "outputs": [],
   "source": [
    "# Spliting Trainig and Test Data\n",
    "X_train, X_test, Y_train, Y_test = train_test_split(X_Standardized, y, test_size=0.2)"
   ]
  },
  {
   "cell_type": "code",
   "execution_count": 20,
   "id": "d643955e-6fa9-4edf-b5cc-6e543aeec4d0",
   "metadata": {},
   "outputs": [
    {
     "name": "stdout",
     "output_type": "stream",
     "text": [
      "Logistic Regression Accuracy: 0.93\n"
     ]
    }
   ],
   "source": [
    "# Training the mode using logistic regression \n",
    "log_model = LogisticRegression()\n",
    "log_model.fit(X_train, Y_train)\n",
    "log_pred = log_model.predict(X_test)\n",
    "log_acc = accuracy_score(Y_test, log_pred)\n",
    "print(f\"Logistic Regression Accuracy: {log_acc:.2f}\")"
   ]
  },
  {
   "cell_type": "code",
   "execution_count": 21,
   "id": "3b206c3b-e6ee-4776-ba5e-08a672e46aa6",
   "metadata": {},
   "outputs": [
    {
     "name": "stdout",
     "output_type": "stream",
     "text": [
      "SVM Accuracy: 0.93\n"
     ]
    }
   ],
   "source": [
    "# Support Vector Machine (SVM)\n",
    "svm_model = SVC(kernel=\"linear\", probability=True)\n",
    "svm_model.fit(X_train, Y_train)\n",
    "svm_pred = svm_model.predict(X_test)\n",
    "svm_acc = accuracy_score(Y_test, svm_pred)\n",
    "print(f\"SVM Accuracy: {svm_acc:.2f}\")"
   ]
  },
  {
   "cell_type": "code",
   "execution_count": 23,
   "id": "c3d13ec5-dbb5-4b5c-b0bf-5705e35f92be",
   "metadata": {
    "scrolled": true
   },
   "outputs": [
    {
     "data": {
      "image/png": "[encoded data removed]",
      "text/plain": [
       "<Figure size 640x480 with 2 Axes>"
      ]
     },
     "metadata": {},
     "output_type": "display_data"
    }
   ],
   "source": [
    "# Confusion Matrix\n",
    "conf_matrix = confusion_matrix(Y_test, svm_pred)\n",
    "sns.heatmap(conf_matrix, annot=True, fmt=\"d\", cmap=\"Blues\")\n",
    "plt.xlabel(\"Predicted\")\n",
    "plt.ylabel(\"Actual\")\n",
    "plt.title(\"Confusion Matrix for SVM\")\n",
    "plt.show()"
   ]
  },
  {
   "cell_type": "code",
   "execution_count": 29,
   "id": "4fa5be03-8c00-45ff-8782-43bf73946251",
   "metadata": {},
   "outputs": [
    {
     "name": "stdout",
     "output_type": "stream",
     "text": [
      "Random Forest Accuracy: 1.00\n"
     ]
    }
   ],
   "source": [
    "rf_model = RandomForestClassifier(n_estimators=100, random_state=42)\n",
    "rf_model.fit(X_train, Y_train)\n",
    "rf_pred = rf_model.predict(X_test)\n",
    "rf_acc = accuracy_score(Y_test, rf_pred)\n",
    "print(f\"Random Forest Accuracy: {rf_acc:.2f}\")"
   ]
  },
  {
   "cell_type": "code",
   "execution_count": 35,
   "id": "7553b6aa-1628-45e8-8b16-3860a004a0f4",
   "metadata": {},
   "outputs": [
    {
     "name": "stdout",
     "output_type": "stream",
     "text": [
      "Best Parameters: {'C': 1, 'gamma': 'scale', 'kernel': 'rbf'}\n"
     ]
    }
   ],
   "source": [
    "# Hyperparameter tuning for SVM\n",
    "from sklearn.model_selection import GridSearchCV\n",
    "\n",
    "param_grid = {\n",
    "    \"C\": [0.1, 1, 10],   # Try different regularization strengths\n",
    "    \"kernel\": [\"linear\", \"rbf\", \"poly\"],  # Try different kernels\n",
    "    \"gamma\": [\"scale\", \"auto\"]  # Test gamma settings\n",
    "}\n",
    "\n",
    "grid_search = GridSearchCV(SVC(probability=True), param_grid, cv=5, scoring=\"accuracy\")\n",
    "grid_search.fit(X_train, Y_train)\n",
    "\n",
    "print(\"Best Parameters:\", grid_search.best_params_)\n",
    "best_svm = grid_search.best_estimator_  # Use best model"
   ]
  },
  {
   "cell_type": "code",
   "execution_count": 39,
   "id": "45f73f06-aea6-492b-921b-a371fdab11f6",
   "metadata": {},
   "outputs": [
    {
     "name": "stdout",
     "output_type": "stream",
     "text": [
      "🔹 Optimized SVM Accuracy: 0.97\n"
     ]
    }
   ],
   "source": [
    "# Train the optimized SVM model\n",
    "optimized_svm = SVC(C=1, kernel=\"rbf\", gamma=\"scale\", probability=True)\n",
    "optimized_svm.fit(X_train, Y_train)\n",
    "\n",
    "# Predict and check accuracy\n",
    "svm_pred_optimized = optimized_svm.predict(X_test)\n",
    "svm_acc_optimized = accuracy_score(Y_test, svm_pred_optimized)\n",
    "\n",
    "print(f\"🔹 Optimized SVM Accuracy: {svm_acc_optimized:.2f}\")\n"
   ]
  },
  {
   "cell_type": "code",
   "execution_count": 43,
   "id": "99efcf4b-0e0f-4a2c-a1c5-3c21fc7478df",
   "metadata": {},
   "outputs": [],
   "source": [
    "# Converting to DataFrame \n",
    "def create_input_dataframe(age, bmi, menstrual_irregularity, testosterone_level, antral_follicle_count):\n",
    "    data = {\n",
    "        'Age': [age],\n",
    "        'BMI': [bmi],\n",
    "        'Menstrual_Irregularity': [menstrual_irregularity],\n",
    "        'Testosterone_Level(ng/dL)': [testosterone_level],\n",
    "        'Antral_Follicle_Count': [antral_follicle_count]\n",
    "    }\n",
    "    df = pd.DataFrame(data)\n",
    "    return df"
   ]
  },
  {
   "cell_type": "code",
   "execution_count": 62,
   "id": "4dd103d5-f5e3-4294-b2c2-860188a5d64d",
   "metadata": {
    "scrolled": true
   },
   "outputs": [
    {
     "name": "stdin",
     "output_type": "stream",
     "text": [
      "Enter age:  38\n",
      "Enter BMI:  26.7\n",
      "Enter Menstrual Irregularity (0 = No, 1 = Yes):  1\n",
      "Enter Testosterone Level (ng/dL):  64.8\n",
      "Enter Antral Follicle Count:  11\n"
     ]
    },
    {
     "name": "stdout",
     "output_type": "stream",
     "text": [
      "User Input DataFrame:\n",
      "   Age   BMI  Menstrual_Irregularity  Testosterone_Level(ng/dL)  \\\n",
      "0   38  26.7                       1                       64.8   \n",
      "\n",
      "   Antral_Follicle_Count  \n",
      "0                     11  \n"
     ]
    }
   ],
   "source": [
    "# Take input from the user\n",
    "def get_user_input():\n",
    "    age = int(input(\"Enter age: \"))\n",
    "    bmi = float(input(\"Enter BMI: \"))\n",
    "    menstrual_irregularity = int(input(\"Enter Menstrual Irregularity (0 = No, 1 = Yes): \"))\n",
    "    testosterone_level = float(input(\"Enter Testosterone Level (ng/dL): \"))\n",
    "    antral_follicle_count = int(input(\"Enter Antral Follicle Count: \"))\n",
    "    \n",
    "    # Create the dataframe with the input values\n",
    "    return create_input_dataframe(age, bmi, menstrual_irregularity, testosterone_level, antral_follicle_count)\n",
    "\n",
    "user_input_df = get_user_input()\n",
    "print(\"User Input DataFrame:\")\n",
    "print(user_input_df)"
   ]
  },
  {
   "cell_type": "code",
   "execution_count": 64,
   "id": "ec3aeded-5d5b-4c1e-ac0d-e08f764a56cf",
   "metadata": {},
   "outputs": [
    {
     "name": "stdout",
     "output_type": "stream",
     "text": [
      "Prediction: [0]\n",
      "The prediction is: No PCOS.\n"
     ]
    }
   ],
   "source": [
    "# Extract the feature values as a numpy array without column names\n",
    "user_input_array = user_input_df.values\n",
    "\n",
    "# Make the prediction\n",
    "output = optimized_svm.predict(user_input_array)\n",
    "\n",
    "# Print the result\n",
    "print(f\"Prediction: {output}\")\n",
    "\n",
    "if output == 0:\n",
    "    print(\"The prediction is: No PCOS.\")\n",
    "else:\n",
    "    print(\"The prediction is: PCOS.\")"
   ]
  }
 ],
 "metadata": {
  "kernelspec": {
   "display_name": "Python [conda env:base] *",
   "language": "python",
   "name": "conda-base-py"
  },
  "language_info": {
   "codemirror_mode": {
    "name": "ipython",
    "version": 3
   },
   "file_extension": ".py",
   "mimetype": "text/x-python",
   "name": "python",
   "nbconvert_exporter": "python",
   "pygments_lexer": "ipython3",
   "version": "3.12.7"
  }
 },
 "nbformat": 4,
 "nbformat_minor": 5
}
